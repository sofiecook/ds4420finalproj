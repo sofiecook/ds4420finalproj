{
 "cells": [
  {
   "cell_type": "code",
   "execution_count": null,
   "id": "708e2cf2",
   "metadata": {},
   "outputs": [],
   "source": [
    "#!pip install nltk\n",
    "#!pip install textblob\n",
    "#!pip install wordcloud matplotlib\n"
   ]
  },
  {
   "cell_type": "code",
   "execution_count": 2,
   "id": "52b7d26b",
   "metadata": {},
   "outputs": [],
   "source": [
    "import pandas as pd\n",
    "import numpy as np\n",
    "from ucimlrepo import fetch_ucirepo\n",
    "import re\n",
    "import nltk\n",
    "from nltk.corpus import stopwords\n",
    "from nltk.stem import WordNetLemmatizer\n",
    "from nltk.sentiment.vader import SentimentIntensityAnalyzer\n",
    "from sklearn.feature_extraction.text import CountVectorizer\n",
    "from sklearn.decomposition import LatentDirichletAllocation\n",
    "from wordcloud import WordCloud\n",
    "import matplotlib.pyplot as plt\n",
    "import seaborn as sns\n",
    "from nltk.tokenize import word_tokenize\n",
    "\n",
    "\n"
   ]
  },
  {
   "cell_type": "code",
   "execution_count": 3,
   "id": "d63ae81c",
   "metadata": {},
   "outputs": [],
   "source": [
    "# datasets\n",
    "drug_reviews_drugs_com = fetch_ucirepo(id=462)\n",
    "drug_reviews_druglib_com = fetch_ucirepo(id=461)\n",
    "\n",
    "# Load the datasets\n",
    "df1 = drug_reviews_drugs_com.data.features\n",
    "df2 = drug_reviews_druglib_com.data.features\n"
   ]
  },
  {
   "cell_type": "code",
   "execution_count": 4,
   "id": "77bfe3b5",
   "metadata": {},
   "outputs": [],
   "source": [
    "# Combine datasets\n",
    "combined_df = pd.concat([df1, df2], ignore_index=True)\n"
   ]
  },
  {
   "cell_type": "code",
   "execution_count": null,
   "id": "a5add676",
   "metadata": {},
   "outputs": [],
   "source": [
    "## Exploratory Data Analysis (EDA)"
   ]
  },
  {
   "cell_type": "code",
   "execution_count": null,
   "id": "073f8d3b",
   "metadata": {},
   "outputs": [],
   "source": [
    "print(combined_df.head())\n",
    "print(combined_df.info())\n",
    "print(\"Unique Drug Names:\", combined_df['urlDrugName'].nunique())\n",
    "print(\"Unique Conditions:\", combined_df['condition'].nunique())\n"
   ]
  },
  {
   "cell_type": "code",
   "execution_count": null,
   "id": "7197d36f",
   "metadata": {},
   "outputs": [],
   "source": [
    "print(combined_df.describe())\n",
    "print(combined_df['rating'].value_counts())\n"
   ]
  },
  {
   "cell_type": "code",
   "execution_count": null,
   "id": "7e927bb3",
   "metadata": {},
   "outputs": [],
   "source": [
    "# Convert reviews to string and calculate lengths\n",
    "#converts review data into string format calculates the length of each review, stores those lengths in new columns\n",
    "combined_df['benefitsLength'] = combined_df['benefitsReview'].astype(str).apply(len)\n",
    "combined_df['sideEffectsLength'] = combined_df['sideEffectsReview'].astype(str).apply(len)\n",
    "combined_df['commentsLength'] = combined_df['commentsReview'].astype(str).apply(len)\n",
    "\n",
    "# Display descriptive statistics (lengths)\n",
    "print(combined_df[['benefitsLength', 'sideEffectsLength', 'commentsLength']].describe())\n"
   ]
  },
  {
   "cell_type": "code",
   "execution_count": null,
   "id": "e8a8dee7",
   "metadata": {},
   "outputs": [],
   "source": [
    "# Descriptive statistics for numerical columns\n",
    "print(combined_df.describe())\n",
    "\n",
    "# distribution of the rating column\n",
    "print(combined_df['rating'].value_counts())\n"
   ]
  },
  {
   "cell_type": "code",
   "execution_count": null,
   "id": "4632486e",
   "metadata": {},
   "outputs": [],
   "source": [
    "plt.figure(figsize=(11, 8))\n",
    "sns.countplot(data=combined_df, x='rating', palette='viridis')\n",
    "plt.title('Distribution of Ratings')\n",
    "plt.xlabel('Rating')\n",
    "plt.ylabel('Count')\n",
    "plt.show()\n"
   ]
  },
  {
   "cell_type": "code",
   "execution_count": null,
   "id": "468aa168",
   "metadata": {},
   "outputs": [],
   "source": [
    "plt.figure(figsize=(9, 5))\n",
    "sns.countplot(data=combined_df, x='effectiveness', palette='plasma')\n",
    "plt.title('Effectiveness Distribution')\n",
    "plt.xlabel('Effectiveness')\n",
    "plt.ylabel('Count')\n",
    "plt.xticks(rotation=45)\n",
    "plt.show()\n"
   ]
  },
  {
   "cell_type": "code",
   "execution_count": null,
   "id": "e95103c0",
   "metadata": {},
   "outputs": [],
   "source": [
    "correlation_matrix = combined_df.corr()\n",
    "plt.figure(figsize=(12, 8))\n",
    "sns.heatmap(correlation_matrix, annot=True, cmap='coolwarm', fmt='.2f')\n",
    "plt.title('Correlation Matrix')\n",
    "plt.show()\n"
   ]
  },
  {
   "cell_type": "code",
   "execution_count": null,
   "id": "7be1a466",
   "metadata": {},
   "outputs": [],
   "source": [
    "\n",
    "# Determine the top N useful review counts USING TOP #10\n",
    "top_n = 10 \n",
    "top_useful_counts = combined_df['usefulCount'].value_counts().nlargest(top_n)\n",
    "\n",
    "plt.figure(figsize=(12, 6))\n",
    "\n",
    "# the top N useful reviews\n",
    "sns.countplot(data=combined_df[combined_df['usefulCount'].isin(top_useful_counts.index)],\n",
    "                            x='usefulCount', palette='Set2', order=top_useful_counts.index)\n",
    "\n",
    "# Customize the plot\n",
    "plt.title('Distribution of Top Useful Reviews', fontsize=16)\n",
    "plt.xlabel('Useful Reviews Count', fontsize=14)\n",
    "plt.ylabel('Frequency', fontsize=14)\n",
    "plt.xticks(rotation=45)  # Rotate x-axis labels\n",
    "plt.grid(axis='y', linestyle='--', alpha=0.7)  # grid for better readability\n",
    "plt.tight_layout()  \n",
    "\n",
    "# Show the plot\n",
    "plt.show()\n",
    "\n"
   ]
  },
  {
   "cell_type": "code",
   "execution_count": 5,
   "id": "ce9ca61d",
   "metadata": {},
   "outputs": [
    {
     "name": "stdout",
     "output_type": "stream",
     "text": [
      "Columns in Dataset 1: Index(['drugName', 'condition', 'review', 'rating', 'date', 'usefulCount'], dtype='object')\n",
      "Columns in Dataset 2: Index(['drug_name', 'rating', 'effectiveness', 'side_effects', 'condition',\n",
      "       'benefits_review', 'side_effects_review', 'commentsReview'],\n",
      "      dtype='object')\n"
     ]
    }
   ],
   "source": [
    "def rename_columns(df):\n",
    "    df = df.rename(columns={\n",
    "        'urlDrugName': 'drug_name',\n",
    "        'effectiveness': 'effectiveness',\n",
    "        'sideEffects': 'side_effects',\n",
    "        'benefitsReview': 'benefits_review',\n",
    "        'sideEffectsReview': 'side_effects_review',\n",
    "        \n",
    "    })\n",
    "    return df\n",
    "\n",
    "df1 = rename_columns(df1)\n",
    "df2 = rename_columns(df2)\n",
    "\n",
    "# Check the column names\n",
    "print(\"Columns in Dataset 1:\", df1.columns)\n",
    "print(\"Columns in Dataset 2:\", df2.columns)\n"
   ]
  },
  {
   "cell_type": "code",
   "execution_count": null,
   "id": "84d34589",
   "metadata": {
    "scrolled": true
   },
   "outputs": [],
   "source": [
    "def plot_drug_ratings(df, dataset_name, top_n=30):\n",
    "    plt.figure(figsize=(12, 6))\n",
    "    \n",
    "    # Check if drug_name exists \n",
    "    if 'drug_name' in df.columns:\n",
    "        # Get the top N drugs based on count\n",
    "        top_drugs = df['drug_name'].value_counts().nlargest(top_n).index\n",
    "        sns.countplot(data=df[df['drug_name'].isin(top_drugs)], x='drug_name', order=top_drugs)\n",
    "        plt.title(f'Top {top_n} Drug Ratings Count in {dataset_name}')\n",
    "        plt.xticks(rotation=90)\n",
    "        plt.show()\n",
    "    else:\n",
    "        print(f\"'drug_name' column not found in {dataset_name}.\")\n",
    "\n",
    "# Plot for both datasets\n",
    "plot_drug_ratings(df1, \"Dataset 1\", top_n=30)\n",
    "plot_drug_ratings(df2, \"Dataset 2\", top_n=30)\n"
   ]
  },
  {
   "cell_type": "code",
   "execution_count": null,
   "id": "9d2b694d",
   "metadata": {},
   "outputs": [],
   "source": [
    "def plot_word_cloud(df, column_name, dataset_name):\n",
    "    plt.figure(figsize=(10, 8))\n",
    "    \n",
    "    # Check if the column exists\n",
    "    if column_name in df.columns:\n",
    "        # Combine all reviews into a single string\n",
    "        all_reviews = ' '.join(df[column_name].dropna())\n",
    "        \n",
    "        # Generate the word cloud\n",
    "        wordcloud = WordCloud(width=800, height=400, background_color='white').generate(all_reviews)\n",
    "        \n",
    "        # Display the word cloud\n",
    "        plt.imshow(wordcloud, interpolation='bilinear')\n",
    "        plt.axis('off')  # Hide axes\n",
    "        plt.title(f'Word Cloud for {column_name} in {dataset_name}')\n",
    "        plt.show()\n",
    "    else:\n",
    "        print(f\"'{column_name}' column not found in {dataset_name}.\")\n",
    "\n",
    "#  word clouds for both datasets\n",
    "plot_word_cloud(df1, 'benefits_review', \"Dataset 1\")\n",
    "plot_word_cloud(df2, 'benefits_review', \"Dataset 2\")\n"
   ]
  },
  {
   "cell_type": "code",
   "execution_count": null,
   "id": "39be4ab9",
   "metadata": {},
   "outputs": [],
   "source": [
    "def plot_drug_word_cloud(df, dataset_name):\n",
    "    plt.figure(figsize=(10, 8))\n",
    "    \n",
    "    # Check if 'drug_name' column exists\n",
    "    if 'drug_name' in df.columns:\n",
    "        # Combine all drug names into a single string\n",
    "        all_drugs = ' '.join(df['drug_name'].dropna())\n",
    "        \n",
    "        # Generate the word cloud\n",
    "        wordcloud = WordCloud(width=800, height=400, background_color='white').generate(all_drugs)\n",
    "        \n",
    "        # Display the word cloud\n",
    "        plt.imshow(wordcloud, interpolation='bilinear')\n",
    "        plt.axis('off')  # Hide axes\n",
    "        plt.title(f'Word Cloud of Drug Names in {dataset_name}')\n",
    "        plt.show()\n",
    "    else:\n",
    "        print(f\"'drug_name' column not found in {dataset_name}.\")\n",
    "\n",
    "# Create word clouds for drug names in both datasets\n",
    "plot_drug_word_cloud(df1, \"Dataset 1\")\n",
    "plot_drug_word_cloud(df2, \"Dataset 2\")\n"
   ]
  },
  {
   "cell_type": "code",
   "execution_count": null,
   "id": "13a26023",
   "metadata": {},
   "outputs": [],
   "source": [
    "def plot_word_frequency(df, column_name):\n",
    "    if column_name in df.columns:\n",
    "        all_reviews = ' '.join(df[column_name].dropna())\n",
    "        words = all_reviews.split()\n",
    "        word_freq = pd.Series(words).value_counts().head(20)  # Top 20 words\n",
    "        word_freq.plot(kind='bar', figsize=(12, 6))\n",
    "        plt.title(f'Top 20 Words in {column_name}')\n",
    "        plt.show()\n",
    "    else:\n",
    "        print(f\"'{column_name}' column not found in the DataFrame.\")\n",
    "\n",
    "# Plot for benefits reviews\n",
    "plot_word_frequency(df1, 'benefits_review')\n",
    "plot_word_frequency(df2, 'benefits_review')\n"
   ]
  },
  {
   "cell_type": "code",
   "execution_count": null,
   "id": "fbdfc60d",
   "metadata": {},
   "outputs": [],
   "source": [
    "# Generate word cloud for conditions in df1\n",
    "condition_text = ' '.join(df1['condition'].dropna())\n",
    "wordcloud = WordCloud(width=800, height=400, background_color='white').generate(condition_text)\n",
    "\n",
    "plt.figure(figsize=(10, 5))\n",
    "plt.imshow(wordcloud, interpolation='bilinear')\n",
    "plt.axis('off')\n",
    "plt.title('Common Conditions in Reviews (Dataset 1)')\n",
    "plt.show()\n"
   ]
  },
  {
   "cell_type": "code",
   "execution_count": null,
   "id": "0fb2f741",
   "metadata": {},
   "outputs": [],
   "source": [
    "# Generate word cloud for side effects in df2\n",
    "side_effects_text = ' '.join(df2['side_effects_review'].dropna())  # Use df2 for Dataset 2\n",
    "wordcloud = WordCloud(width=800, height=400, background_color='white').generate(side_effects_text)\n",
    "\n",
    "plt.figure(figsize=(10, 5))\n",
    "plt.imshow(wordcloud, interpolation='bilinear')\n",
    "plt.axis('off')\n",
    "plt.title('Common Side Effects in Reviews (Dataset 2)')\n",
    "plt.show()\n"
   ]
  },
  {
   "cell_type": "code",
   "execution_count": null,
   "id": "8b273daf",
   "metadata": {},
   "outputs": [],
   "source": [
    "# Generate word cloud for conditions in df2\n",
    "condition_text = ' '.join(df2['condition'].dropna())  # Use df2 and focus on 'condition' column\n",
    "wordcloud = WordCloud(width=800, height=400, background_color='white').generate(condition_text)\n",
    "\n",
    "plt.figure(figsize=(10, 5))\n",
    "plt.imshow(wordcloud, interpolation='bilinear')\n",
    "plt.axis('off')\n",
    "plt.title('Common Conditions in Reviews (Dataset 2)')\n",
    "plt.show()\n"
   ]
  },
  {
   "cell_type": "code",
   "execution_count": 6,
   "id": "f6b97c01",
   "metadata": {},
   "outputs": [
    {
     "name": "stdout",
     "output_type": "stream",
     "text": [
      "Cleaned review: 0    it has no side effect i take it in combination...\n",
      "1    my son is halfway through his fourth week of i...\n",
      "2    i used to take another oral contraceptive whic...\n",
      "3    this is my first time using any form of birth ...\n",
      "4    suboxone has completely turned my life around ...\n",
      "Name: cleaned_review, dtype: object\n"
     ]
    }
   ],
   "source": [
    "# Function to clean text (remove punctuation, lowercase, remove numbers)\n",
    "def clean_text(text):\n",
    "    if isinstance(text, str):\n",
    "        text = text.lower()  \n",
    "        text = re.sub(r'\\d+', '', text)  # Remove numbers\n",
    "        text = re.sub(r'[^\\w\\s]', '', text)  # Remove punctuation\n",
    "    return text\n",
    "\n",
    "# Apply the cleaning function to the review column\n",
    "df1['cleaned_review'] = df1['review'].apply(clean_text)\n",
    "\n",
    "# Check cleaned reviews\n",
    "print(\"Cleaned review:\", df1['cleaned_review'].head())\n"
   ]
  },
  {
   "cell_type": "code",
   "execution_count": 7,
   "id": "e3aeabf2",
   "metadata": {},
   "outputs": [
    {
     "name": "stderr",
     "output_type": "stream",
     "text": [
      "[nltk_data] Downloading package punkt to\n",
      "[nltk_data]     /Users/katerineosorio/nltk_data...\n",
      "[nltk_data]   Package punkt is already up-to-date!\n",
      "[nltk_data] Downloading package stopwords to\n",
      "[nltk_data]     /Users/katerineosorio/nltk_data...\n",
      "[nltk_data]   Package stopwords is already up-to-date!\n",
      "[nltk_data] Downloading package punkt_tab to\n",
      "[nltk_data]     /Users/katerineosorio/nltk_data...\n",
      "[nltk_data]   Package punkt_tab is already up-to-date!\n"
     ]
    },
    {
     "name": "stdout",
     "output_type": "stream",
     "text": [
      "Tokenized review: 0    [side, effect, take, combination, bystolic, mg...\n",
      "1    [son, halfway, fourth, week, intuniv, became, ...\n",
      "2    [used, take, another, oral, contraceptive, pil...\n",
      "3    [first, time, using, form, birth, control, im,...\n",
      "4    [suboxone, completely, turned, life, around, f...\n",
      "Name: tokens_review, dtype: object\n"
     ]
    }
   ],
   "source": [
    "nltk.download('punkt')\n",
    "nltk.download('stopwords')\n",
    "nltk.download('punkt_tab')  \n",
    "# Set of English stop words\n",
    "stop_words = set(stopwords.words('english'))\n",
    "\n",
    "# Function to clean text (remove punctuation, lowercase, remove numbers)\n",
    "def clean_text(text):\n",
    "    if isinstance(text, str):\n",
    "        text = text.lower()  \n",
    "        text = re.sub(r'\\d+', '', text)  # Remove numbers\n",
    "        text = re.sub(r'[^\\w\\s]', '', text)  # Remove punctuation\n",
    "    return text\n",
    "\n",
    "# Function to tokenize and remove stopwords\n",
    "def tokenize_and_remove_stopwords(text):\n",
    "    if isinstance(text, str):\n",
    "        words = word_tokenize(text)\n",
    "        words = [word for word in words if word not in stop_words]\n",
    "        return words\n",
    "    return []  # Return an empty list if text is not a string\n",
    "\n",
    "# Clean the review column\n",
    "df1['cleaned_review'] = df1['review'].apply(clean_text)\n",
    "\n",
    "# Apply tokenization and stopword removal\n",
    "df1['tokens_review'] = df1['cleaned_review'].apply(tokenize_and_remove_stopwords)\n",
    "\n",
    "# tokenized data\n",
    "print(\"Tokenized review:\", df1['tokens_review'].head())\n"
   ]
  },
  {
   "cell_type": "code",
   "execution_count": 8,
   "id": "39d443eb",
   "metadata": {},
   "outputs": [
    {
     "name": "stderr",
     "output_type": "stream",
     "text": [
      "[nltk_data] Downloading package wordnet to\n",
      "[nltk_data]     /Users/katerineosorio/nltk_data...\n",
      "[nltk_data]   Package wordnet is already up-to-date!\n"
     ]
    },
    {
     "name": "stdout",
     "output_type": "stream",
     "text": [
      "Lemmatized review: 0    [side, effect, take, combination, bystolic, mg...\n",
      "1    [son, halfway, fourth, week, intuniv, became, ...\n",
      "2    [used, take, another, oral, contraceptive, pil...\n",
      "3    [first, time, using, form, birth, control, im,...\n",
      "4    [suboxone, completely, turned, life, around, f...\n",
      "Name: lemmatized_review, dtype: object\n"
     ]
    }
   ],
   "source": [
    "from nltk.stem import WordNetLemmatizer\n",
    "\n",
    "nltk.download('wordnet')\n",
    "\n",
    "# Initialize lemmatizer\n",
    "lemmatizer = WordNetLemmatizer()\n",
    "\n",
    "# Function to lemmatize words\n",
    "def lemmatize_words(tokens):\n",
    "    return [lemmatizer.lemmatize(word) for word in tokens]\n",
    "\n",
    "# Apply lemmatization\n",
    "df1['lemmatized_review'] = df1['tokens_review'].apply(lemmatize_words)\n",
    "\n",
    "# lemmatized data\n",
    "print(\"Lemmatized review:\", df1['lemmatized_review'].head())\n"
   ]
  },
  {
   "cell_type": "code",
   "execution_count": 9,
   "id": "e4c0a46f",
   "metadata": {
    "scrolled": true
   },
   "outputs": [
    {
     "name": "stdout",
     "output_type": "stream",
     "text": [
      "Sentiment scores for comments reviews:\n",
      "        comments_sentiment_score\n",
      "14311                          0\n",
      "72301                          0\n",
      "23041                          0\n",
      "197721                         0\n",
      "133612                         0\n"
     ]
    }
   ],
   "source": [
    "from nltk.sentiment.vader import SentimentIntensityAnalyzer\n",
    "\n",
    "# Initialize VADER sentiment analyzer\n",
    "sia = SentimentIntensityAnalyzer()\n",
    "\n",
    "# Sample the DataFrame to limit processing time\n",
    "sample_df = df1.sample(n=min(1000, len(df1)), random_state=42)  # Sample up to 1000 rows\n",
    "\n",
    "# Function to get sentiment score\n",
    "def analyze_sentiment(text):\n",
    "    if isinstance(text, str):\n",
    "        return sia.polarity_scores(text)\n",
    "    else:\n",
    "        return {'neg': 0, 'neu': 0, 'pos': 0, 'compound': 0}\n",
    "\n",
    "# Apply sentiment analysis\n",
    "sample_df['comments_review_sentiment'] = sample_df['lemmatized_review'].apply(analyze_sentiment)\n",
    "\n",
    "# Extract compound sentiment score\n",
    "sample_df['comments_sentiment_score'] = sample_df['comments_review_sentiment'].apply(lambda x: x['compound'])\n",
    "\n",
    "# sentiment scores\n",
    "print(\"Sentiment scores for comments reviews:\")\n",
    "print(sample_df[['comments_sentiment_score']].head())\n"
   ]
  },
  {
   "cell_type": "code",
   "execution_count": 12,
   "id": "a9270b0d",
   "metadata": {
    "scrolled": true
   },
   "outputs": [
    {
     "data": {
      "image/png": "[encoded data removed]",
      "text/plain": [
       "<Figure size 640x480 with 1 Axes>"
      ]
     },
     "metadata": {},
     "output_type": "display_data"
    }
   ],
   "source": [
    "from sklearn.feature_extraction.text import CountVectorizer\n",
    "\n",
    "\n",
    "def plot_most_frequent_words(text_column, top_n=10):\n",
    "    # Use CountVectorizer to get word frequencies\n",
    "    vectorizer = CountVectorizer(stop_words='english', max_features=top_n)\n",
    "    word_matrix = vectorizer.fit_transform(text_column)\n",
    "    word_freq = np.asarray(word_matrix.sum(axis=0)).flatten()\n",
    "    words = vectorizer.get_feature_names_out()\n",
    "\n",
    "    # Create a DataFrame for plotting\n",
    "    word_freq_dict = dict(zip(words, word_freq))\n",
    "    sorted_words = sorted(word_freq_dict.items(), key=lambda x: x[1], reverse=True)\n",
    "    word_df = pd.DataFrame(sorted_words, columns=['Word', 'Frequency'])\n",
    "\n",
    "    # Plot the results\n",
    "    sns.barplot(x='Frequency', y='Word', data=word_df)\n",
    "    plt.title(f'Top {top_n} Most Frequent Words')\n",
    "    plt.show()\n",
    "\n",
    "# Check for the original review column\n",
    "if 'lemmatized_review' in df1.columns:  \n",
    "    # Sample 1000 rows for plotting\n",
    "    sample_df = df1.sample(n=1000)\n",
    "\n",
    "    # Plot the most frequent words in the original comments\n",
    "    plot_most_frequent_words(sample_df['lemmatized_review'].astype(str), top_n=15)\n",
    "else:\n",
    "    print(\"The required column 'lemmatized_review' is missing.\")\n"
   ]
  },
  {
   "cell_type": "code",
   "execution_count": 14,
   "id": "02c64a3d",
   "metadata": {},
   "outputs": [
    {
     "name": "stdout",
     "output_type": "stream",
     "text": [
      "Topic 1:\n",
      "['acne', 'day', 'skin', 'weight', 'week', 'started', 'month', 'im', 'year', 'ive']\n",
      "Topic 2:\n",
      "['im', 'work', 'doctor', 'time', 'effect', 'year', 'taking', 'pain', 'mg', 'day']\n",
      "Topic 3:\n",
      "['effect', 'time', 'got', 'birth', 'control', 'day', 'week', 'pill', 'month', 'period']\n"
     ]
    }
   ],
   "source": [
    "from sklearn.decomposition import LatentDirichletAllocation\n",
    "\n",
    "# Check if necessary columns exist\n",
    "if 'lemmatized_review' in df1.columns:  \n",
    "    # Sample a smaller subset of the DataFrame \n",
    "    sample_df = df1.sample(n=min(1000, len(df1)), random_state=42)  # Sample up to 1000 rows\n",
    "\n",
    "    # Use the text column for topic modeling\n",
    "    text_column = sample_df['lemmatized_review'].astype(str) \n",
    "\n",
    "    # Use CountVectorizer for LDA with a limit on the number of features\n",
    "    vectorizer = CountVectorizer(stop_words='english', max_features=500)  # Reduce max_features to 500\n",
    "    X = vectorizer.fit_transform(text_column)\n",
    "\n",
    "    # Apply LDA for topic modeling with fewer topics\n",
    "    lda = LatentDirichletAllocation(n_components=3, random_state=42) \n",
    "    lda.fit(X)\n",
    "\n",
    "    # Function to display top words in each topic\n",
    "    def print_lda_topics(lda, vectorizer, top_n=10):\n",
    "        words = vectorizer.get_feature_names_out()\n",
    "        for i, topic in enumerate(lda.components_):\n",
    "            print(f\"Topic {i + 1}:\")\n",
    "            print([words[i] for i in topic.argsort()[-top_n:]])\n",
    "\n",
    "    # Print the top words for each topic\n",
    "    print_lda_topics(lda, vectorizer)\n",
    "else:\n",
    "    print(\"The required column 'lemmatized_review' is missing.\")\n"
   ]
  },
  {
   "cell_type": "code",
   "execution_count": null,
   "id": "bd8d0da8",
   "metadata": {},
   "outputs": [],
   "source": []
  }
 ],
 "metadata": {
  "kernelspec": {
   "display_name": "Python 3 (ipykernel)",
   "language": "python",
   "name": "python3"
  },
  "language_info": {
   "codemirror_mode": {
    "name": "ipython",
    "version": 3
   },
   "file_extension": ".py",
   "mimetype": "text/x-python",
   "name": "python",
   "nbconvert_exporter": "python",
   "pygments_lexer": "ipython3",
   "version": "3.11.7"
  }
 },
 "nbformat": 4,
 "nbformat_minor": 5
}
