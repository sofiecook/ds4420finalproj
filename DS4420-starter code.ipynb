{
 "cells": [
  {
   "cell_type": "code",
   "execution_count": 1,
   "id": "708e2cf2",
   "metadata": {},
   "outputs": [],
   "source": [
    "#!pip install nltk\n",
    "#!pip install textblob\n",
    "#!pip install wordcloud matplotlib\n"
   ]
  },
  {
   "cell_type": "code",
   "execution_count": 2,
   "id": "52b7d26b",
   "metadata": {},
   "outputs": [],
   "source": [
    "import pandas as pd\n",
    "import numpy as np\n",
    "from ucimlrepo import fetch_ucirepo\n",
    "import re\n",
    "import nltk\n",
    "from nltk.corpus import stopwords\n",
    "from nltk.stem import WordNetLemmatizer\n",
    "from nltk.sentiment.vader import SentimentIntensityAnalyzer\n",
    "from sklearn.feature_extraction.text import CountVectorizer\n",
    "from sklearn.decomposition import LatentDirichletAllocation\n",
    "from wordcloud import WordCloud\n"
   ]
  },
  {
   "cell_type": "code",
   "execution_count": 3,
   "id": "d63ae81c",
   "metadata": {},
   "outputs": [],
   "source": [
    "# datasets\n",
    "drug_reviews_drugs_com = fetch_ucirepo(id=462)\n",
    "drug_reviews_druglib_com = fetch_ucirepo(id=461)\n",
    "\n",
    "# Load the datasets\n",
    "df1 = drug_reviews_drugs_com.data.features\n",
    "df2 = drug_reviews_druglib_com.data.features\n"
   ]
  },
  {
   "cell_type": "code",
   "execution_count": 6,
   "id": "77bfe3b5",
   "metadata": {},
   "outputs": [],
   "source": [
    "# Combine datasets\n",
    "combined_df = pd.concat([df1, df2], ignore_index=True)\n"
   ]
  },
  {
   "cell_type": "code",
   "execution_count": null,
   "id": "a5add676",
   "metadata": {},
   "outputs": [],
   "source": [
    "## Exploratory Data Analysis (EDA)"
   ]
  },
  {
   "cell_type": "code",
   "execution_count": null,
   "id": "073f8d3b",
   "metadata": {},
   "outputs": [],
   "source": [
    "print(combined_df.head())\n",
    "print(combined_df.info())\n",
    "print(\"Unique Drug Names:\", combined_df['urlDrugName'].nunique())\n",
    "print(\"Unique Conditions:\", combined_df['condition'].nunique())\n"
   ]
  },
  {
   "cell_type": "code",
   "execution_count": null,
   "id": "7197d36f",
   "metadata": {},
   "outputs": [],
   "source": [
    "print(combined_df.describe())\n",
    "print(combined_df['rating'].value_counts())\n"
   ]
  },
  {
   "cell_type": "code",
   "execution_count": null,
   "id": "7e927bb3",
   "metadata": {},
   "outputs": [],
   "source": [
    "# Convert reviews to string and calculate lengths\n",
    "#converts review data into string format (to handle potential NaN values), calculates the length of each review, stores those lengths in new columns\n",
    "combined_df['benefitsLength'] = combined_df['benefitsReview'].astype(str).apply(len)\n",
    "combined_df['sideEffectsLength'] = combined_df['sideEffectsReview'].astype(str).apply(len)\n",
    "combined_df['commentsLength'] = combined_df['commentsReview'].astype(str).apply(len)\n",
    "\n",
    "# Display descriptive statistics (lengths)\n",
    "print(combined_df[['benefitsLength', 'sideEffectsLength', 'commentsLength']].describe())\n"
   ]
  },
  {
   "cell_type": "code",
   "execution_count": null,
   "id": "e8a8dee7",
   "metadata": {},
   "outputs": [],
   "source": [
    "# Descriptive statistics for numerical columns\n",
    "print(combined_df.describe())\n",
    "\n",
    "# distribution of the rating column\n",
    "print(combined_df['rating'].value_counts())\n"
   ]
  },
  {
   "cell_type": "code",
   "execution_count": null,
   "id": "4632486e",
   "metadata": {},
   "outputs": [],
   "source": [
    "plt.figure(figsize=(11, 8))\n",
    "sns.countplot(data=combined_df, x='rating', palette='viridis')\n",
    "plt.title('Distribution of Ratings')\n",
    "plt.xlabel('Rating')\n",
    "plt.ylabel('Count')\n",
    "plt.show()\n"
   ]
  },
  {
   "cell_type": "code",
   "execution_count": null,
   "id": "468aa168",
   "metadata": {},
   "outputs": [],
   "source": [
    "plt.figure(figsize=(9, 5))\n",
    "sns.countplot(data=combined_df, x='effectiveness', palette='plasma')\n",
    "plt.title('Effectiveness Distribution')\n",
    "plt.xlabel('Effectiveness')\n",
    "plt.ylabel('Count')\n",
    "plt.xticks(rotation=45)\n",
    "plt.show()\n"
   ]
  },
  {
   "cell_type": "code",
   "execution_count": null,
   "id": "e95103c0",
   "metadata": {},
   "outputs": [],
   "source": [
    "correlation_matrix = combined_df.corr()\n",
    "plt.figure(figsize=(12, 8))\n",
    "sns.heatmap(correlation_matrix, annot=True, cmap='coolwarm', fmt='.2f')\n",
    "plt.title('Correlation Matrix')\n",
    "plt.show()\n"
   ]
  },
  {
   "cell_type": "code",
   "execution_count": null,
   "id": "7be1a466",
   "metadata": {},
   "outputs": [],
   "source": [
    "\n",
    "# Determine the top N useful review counts (adjust N as needed) USING TOP #10\n",
    "top_n = 10 \n",
    "top_useful_counts = combined_df['usefulCount'].value_counts().nlargest(top_n)\n",
    "\n",
    "plt.figure(figsize=(12, 6))\n",
    "\n",
    "# the top N useful reviews\n",
    "sns.countplot(data=combined_df[combined_df['usefulCount'].isin(top_useful_counts.index)],\n",
    "                            x='usefulCount', palette='Set2', order=top_useful_counts.index)\n",
    "\n",
    "# Customize the plot\n",
    "plt.title('Distribution of Top Useful Reviews', fontsize=16)\n",
    "plt.xlabel('Useful Reviews Count', fontsize=14)\n",
    "plt.ylabel('Frequency', fontsize=14)\n",
    "plt.xticks(rotation=45)  # Rotate x-axis labels for better visibility\n",
    "plt.grid(axis='y', linestyle='--', alpha=0.7)  # grid for better readability\n",
    "plt.tight_layout()  # Adjust layout for better fit\n",
    "\n",
    "# Show the plot\n",
    "plt.show()\n",
    "\n"
   ]
  },
  {
   "cell_type": "code",
   "execution_count": null,
   "id": "ce9ca61d",
   "metadata": {},
   "outputs": [],
   "source": [
    "def rename_columns(df):\n",
    "    df = df.rename(columns={\n",
    "        'urlDrugName': 'drug_name',\n",
    "        'rating': 'rating',\n",
    "        'effectiveness': 'effectiveness',\n",
    "        'sideEffects': 'side_effects',\n",
    "        'condition': 'condition',\n",
    "        'benefitsReview': 'benefits_review',\n",
    "        'sideEffectsReview': 'side_effects_review',\n",
    "        'commentsReview': 'comments_review'\n",
    "    })\n",
    "    return df\n",
    "\n",
    "df1 = rename_columns(df1)\n",
    "df2 = rename_columns(df2)\n",
    "\n",
    "# Check the column names\n",
    "print(\"Columns in Dataset 1:\", df1.columns)\n",
    "print(\"Columns in Dataset 2:\", df2.columns)\n"
   ]
  },
  {
   "cell_type": "code",
   "execution_count": null,
   "id": "84d34589",
   "metadata": {
    "scrolled": true
   },
   "outputs": [],
   "source": [
    "def plot_drug_ratings(df, dataset_name, top_n=30):\n",
    "    plt.figure(figsize=(12, 6))\n",
    "    \n",
    "    # Check if drug_name exists \n",
    "    if 'drug_name' in df.columns:\n",
    "        # Get the top N drugs based on count\n",
    "        top_drugs = df['drug_name'].value_counts().nlargest(top_n).index\n",
    "        sns.countplot(data=df[df['drug_name'].isin(top_drugs)], x='drug_name', order=top_drugs)\n",
    "        plt.title(f'Top {top_n} Drug Ratings Count in {dataset_name}')\n",
    "        plt.xticks(rotation=90)\n",
    "        plt.show()\n",
    "    else:\n",
    "        print(f\"'drug_name' column not found in {dataset_name}.\")\n",
    "\n",
    "# Plot for both datasets\n",
    "plot_drug_ratings(df1, \"Dataset 1\", top_n=30)\n",
    "plot_drug_ratings(df2, \"Dataset 2\", top_n=30)\n"
   ]
  },
  {
   "cell_type": "code",
   "execution_count": null,
   "id": "9d2b694d",
   "metadata": {},
   "outputs": [],
   "source": [
    "def plot_word_cloud(df, column_name, dataset_name):\n",
    "    plt.figure(figsize=(10, 8))\n",
    "    \n",
    "    # Check if the column exists\n",
    "    if column_name in df.columns:\n",
    "        # Combine all reviews into a single string\n",
    "        all_reviews = ' '.join(df[column_name].dropna())\n",
    "        \n",
    "        # Generate the word cloud\n",
    "        wordcloud = WordCloud(width=800, height=400, background_color='white').generate(all_reviews)\n",
    "        \n",
    "        # Display the word cloud\n",
    "        plt.imshow(wordcloud, interpolation='bilinear')\n",
    "        plt.axis('off')  # Hide axes\n",
    "        plt.title(f'Word Cloud for {column_name} in {dataset_name}')\n",
    "        plt.show()\n",
    "    else:\n",
    "        print(f\"'{column_name}' column not found in {dataset_name}.\")\n",
    "\n",
    "#  word clouds for both datasets\n",
    "plot_word_cloud(df1, 'benefits_review', \"Dataset 1\")\n",
    "plot_word_cloud(df2, 'benefits_review', \"Dataset 2\")\n"
   ]
  },
  {
   "cell_type": "code",
   "execution_count": null,
   "id": "39be4ab9",
   "metadata": {},
   "outputs": [],
   "source": [
    "def plot_drug_word_cloud(df, dataset_name):\n",
    "    plt.figure(figsize=(10, 8))\n",
    "    \n",
    "    # Check if 'drug_name' column exists\n",
    "    if 'drug_name' in df.columns:\n",
    "        # Combine all drug names into a single string\n",
    "        all_drugs = ' '.join(df['drug_name'].dropna())\n",
    "        \n",
    "        # Generate the word cloud\n",
    "        wordcloud = WordCloud(width=800, height=400, background_color='white').generate(all_drugs)\n",
    "        \n",
    "        # Display the word cloud\n",
    "        plt.imshow(wordcloud, interpolation='bilinear')\n",
    "        plt.axis('off')  # Hide axes\n",
    "        plt.title(f'Word Cloud of Drug Names in {dataset_name}')\n",
    "        plt.show()\n",
    "    else:\n",
    "        print(f\"'drug_name' column not found in {dataset_name}.\")\n",
    "\n",
    "# Create word clouds for drug names in both datasets\n",
    "plot_drug_word_cloud(df1, \"Dataset 1\")\n",
    "plot_drug_word_cloud(df2, \"Dataset 2\")\n"
   ]
  },
  {
   "cell_type": "code",
   "execution_count": null,
   "id": "13a26023",
   "metadata": {},
   "outputs": [],
   "source": [
    "def plot_word_frequency(df, column_name):\n",
    "    if column_name in df.columns:\n",
    "        all_reviews = ' '.join(df[column_name].dropna())\n",
    "        words = all_reviews.split()\n",
    "        word_freq = pd.Series(words).value_counts().head(20)  # Top 20 words\n",
    "        word_freq.plot(kind='bar', figsize=(12, 6))\n",
    "        plt.title(f'Top 20 Words in {column_name}')\n",
    "        plt.show()\n",
    "    else:\n",
    "        print(f\"'{column_name}' column not found in the DataFrame.\")\n",
    "\n",
    "# Plot for benefits reviews\n",
    "plot_word_frequency(df1, 'benefits_review')\n",
    "plot_word_frequency(df2, 'benefits_review')\n"
   ]
  },
  {
   "cell_type": "code",
   "execution_count": null,
   "id": "fd6b07fc",
   "metadata": {},
   "outputs": [],
   "source": [
    "from nltk.sentiment import SentimentIntensityAnalyzer\n",
    "\n",
    "# Download the necessary NLTK resources\n",
    "nltk.download('vader_lexicon')\n",
    "\n",
    "# Step 2: Load Data\n",
    "drug_reviews_drugs_com = fetch_ucirepo(id=462)\n",
    "X1 = drug_reviews_drugs_com.data.features\n",
    "\n",
    "# Step 3: Inspect Available Columns\n",
    "print(\"Available columns in the dataset:\")\n",
    "print(X1.columns)\n",
    "\n",
    "# Proceed only if the expected columns exist\n",
    "expected_columns = ['benefitsReview', 'sideEffectsReview', 'commentsReview', 'urlDrugName', 'rating']\n",
    "missing_columns = [col for col in expected_columns if col not in X1.columns]\n",
    "\n",
    "if missing_columns:\n",
    "    print(f\"Warning: The following expected columns are missing: {missing_columns}\")\n",
    "    # Show available columns after the warning\n",
    "    print(\"Available columns:\")\n",
    "    print(X1.columns)\n",
    "else:\n",
    "    # Combine relevant text fields for analysis\n",
    "    X1['combined_reviews'] = (\n",
    "        X1['benefitsReview'].fillna(\"\") + \" \" +\n",
    "        X1['sideEffectsReview'].fillna(\"\") + \" \" +\n",
    "        X1['commentsReview'].fillna(\"\")\n",
    "    )\n"
   ]
  },
  {
   "cell_type": "code",
   "execution_count": null,
   "id": "75af1c9c",
   "metadata": {},
   "outputs": [],
   "source": [
    " # Initialize the Sentiment Intensity Analyzer\n",
    "sia = SentimentIntensityAnalyzer()\n",
    "    \n",
    "# Calculate sentiment scores for the combined reviews\n",
    "X1['sentiment'] = X1['combined_reviews'].apply(lambda x: sia.polarity_scores(x)['compound'])\n"
   ]
  },
  {
   "cell_type": "code",
   "execution_count": null,
   "id": "fa1fe773",
   "metadata": {},
   "outputs": [],
   "source": [
    "# Categorize the sentiment scores into negative, neutral, and positive\n",
    "    X1['sentiment_category'] = pd.cut(\n",
    "        X1['sentiment'],\n",
    "        bins=[-1, -0.05, 0.05, 1],\n",
    "        labels=['negative', 'neutral', 'positive']\n",
    "    )\n"
   ]
  },
  {
   "cell_type": "code",
   "execution_count": null,
   "id": "7cdaf398",
   "metadata": {},
   "outputs": [],
   "source": [
    "# Check if 'sentiment_category' was created successfully\n",
    "if 'sentiment_category' in X1.columns:\n"
   ]
  },
  {
   "cell_type": "code",
   "execution_count": null,
   "id": "79e71b20",
   "metadata": {},
   "outputs": [],
   "source": [
    "# Count the number of reviews in each sentiment category\n",
    "sentiment_counts = X1['sentiment_category'].value_counts()\n",
    "print(\"Sentiment Counts:\")\n",
    "print(sentiment_counts)\n"
   ]
  },
  {
   "cell_type": "code",
   "execution_count": null,
   "id": "bfdf3d65",
   "metadata": {},
   "outputs": [],
   "source": [
    "# Visualization of sentiment distribution using seaborn\n",
    "plt.figure(figsize=(8, 6))\n",
    "sns.countplot(data=X1, x='sentiment_category', palette='viridis')\n",
    "plt.title('Sentiment Distribution of Drug Reviews')\n",
    "plt.xlabel('Sentiment Category')\n",
    "plt.ylabel('Count')\n",
    "plt.show()\n"
   ]
  },
  {
   "cell_type": "code",
   "execution_count": null,
   "id": "3b00fd66",
   "metadata": {},
   "outputs": [],
   "source": [
    "# Plotting sentiment distribution\n",
    "sns.countplot(data=df, x='sentiment')\n",
    "plt.title('Sentiment Distribution of Drug Reviews')\n",
    "plt.show()\n"
   ]
  },
  {
   "cell_type": "code",
   "execution_count": null,
   "id": "fbdfc60d",
   "metadata": {},
   "outputs": [],
   "source": [
    "from wordcloud import WordCloud\n",
    "\n",
    "# Generate word cloud for side effects\n",
    "side_effects_text = ' '.join(df['sideEffectsReview'].dropna())\n",
    "wordcloud = WordCloud(width=800, height=400, background_color='white').generate(side_effects_text)\n",
    "\n",
    "plt.figure(figsize=(10, 5))\n",
    "plt.imshow(wordcloud, interpolation='bilinear')\n",
    "plt.axis('off')\n",
    "plt.title('Common Side Effects in Reviews')\n",
    "plt.show()\n"
   ]
  },
  {
   "cell_type": "code",
   "execution_count": null,
   "id": "0fb2f741",
   "metadata": {},
   "outputs": [],
   "source": []
  }
 ],
 "metadata": {
  "kernelspec": {
   "display_name": "Python 3 (ipykernel)",
   "language": "python",
   "name": "python3"
  },
  "language_info": {
   "codemirror_mode": {
    "name": "ipython",
    "version": 3
   },
   "file_extension": ".py",
   "mimetype": "text/x-python",
   "name": "python",
   "nbconvert_exporter": "python",
   "pygments_lexer": "ipython3",
   "version": "3.11.7"
  }
 },
 "nbformat": 4,
 "nbformat_minor": 5
}
